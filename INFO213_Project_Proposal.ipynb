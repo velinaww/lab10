{
  "cells": [
    {
      "cell_type": "markdown",
      "metadata": {
        "id": "view-in-github",
        "colab_type": "text"
      },
      "source": [
        "<a href=\"https://colab.research.google.com/github/velinaww/lab10/blob/master/INFO213_Project_Proposal.ipynb\" target=\"_parent\"><img src=\"https://colab.research.google.com/assets/colab-badge.svg\" alt=\"Open In Colab\"/></a>"
      ]
    },
    {
      "cell_type": "markdown",
      "metadata": {
        "id": "Qkn0yi3suTIH"
      },
      "source": [
        "# College of Computing and Informatics, Drexel University\n",
        "## INFO 213: Data Science Programming II\n",
        "---\n",
        "\n",
        "## Project Proposal\n",
        "\n",
        "## Project Title: Flight Fare Forecasting using Machine Learning\n",
        "\n",
        "## Student(s): Hanjun Xu, Velina Wang\n",
        "\n",
        "## Date: 5/25/2025\n",
        "---"
      ]
    },
    {
      "cell_type": "markdown",
      "metadata": {
        "id": "IRUevRV9u1jS"
      },
      "source": [
        "# List Your Team Members:\n",
        "## 1. Member 1: Hanjun Xu\n",
        "## 2. Member 2: Velina Wang\n"
      ]
    },
    {
      "cell_type": "markdown",
      "metadata": {
        "id": "efnkKhE0uTII"
      },
      "source": [
        "# Purpose\n",
        "---\n",
        "You are asked to propose a final project to practice the machine learning concepts and techniques covered in this course. Your project should include the following components:\n",
        "- Dataset Selection: You must choose a dataset relevant to your interests or a specific domain. The dataset should be of sufficient size and complexity to demonstrate various machine learning techniques.\n",
        "\n",
        "- Problem Definition: Define a clear problem or task to solve using machine learning techniques. It could be classification, regression, clustering, or another relevant task.\n",
        "\n",
        "- Exploratory Data Analysis (EDA): You need to perform thorough EDA on the dataset to understand its characteristics, identify patterns, missing values, outliers, and potential features for modeling.\n",
        "\n",
        "- Data Preprocessing: You should cleanse and preprocess the data as necessary.\n",
        "\n",
        "- Feature Engineering: Implement feature engineering for creating new features, transforming existing ones, or selecting relevant features.\n",
        "\n",
        "- Model Selection: Experiment with different machine learning algorithms and hyperparameters.\n",
        "\n",
        "- Model Evaluation: Evaluate the models using appropriate evaluation metrics\n",
        "\n",
        "- Visualization and Interpretation: You should use visulization throughout EDA, modeling, and evaluation to illustrate any insights.\n",
        "\n",
        "- Code and Implementation: Throughout the notebook, you must write well-structured and commented code.\n",
        "\n",
        "- Documentation and Presentation: Throughout the notebook, you must add comprehensive commentary text to explain plots and code snippets. Always provide interpretations and explanations to document your analyses and results.\n"
      ]
    },
    {
      "cell_type": "markdown",
      "metadata": {
        "id": "ZO-AEcQduTII"
      },
      "source": [
        "### 1. Introduction\n",
        "---\n",
        "*(Introduce the project and describe the objectives.)*"
      ]
    },
    {
      "cell_type": "markdown",
      "source": [
        "Air ticket prices are highly dynamic and are influenced by many factors, such as departure time, airline, duration and the number of stops. For travelers and businesses, predicting air ticket prices is a key task that can save costs and facilitate better planning. \"Easemytrip\" is an Internet platform for booking air tickets, and thus it is a platform used by potential passengers to purchase tickets. The aim of this project is to analyze the flight reservation dataset obtained from the \"Ease My Trip\" website to establish a prediction model, using machine learning techniques to estimate the cost of air tickets based on multiple input features."
      ],
      "metadata": {
        "id": "_SFCb6rOozh1"
      }
    },
    {
      "cell_type": "markdown",
      "metadata": {
        "id": "QDaziBHSuTIJ"
      },
      "source": [
        "### 2. Problem Definition\n",
        "---\n",
        "*(Define the problem that will be solved in this data analytics project.)*"
      ]
    },
    {
      "cell_type": "markdown",
      "source": [
        "The core objective of this project is to predict flight ticket prices using structured tabular data. This is a regression task, where the target variable is the Price of the ticket. The input features include airline, source, destination, departure/arrival time, duration, and number of stops. Challenges to address include handling categorical variables, extracting useful information from time-based fields, and accounting for missing values and potential outliers. Our group will compare different regression models to find the most effective one for accurate fare prediction."
      ],
      "metadata": {
        "id": "k9TXWcANpE_6"
      }
    },
    {
      "cell_type": "markdown",
      "metadata": {
        "id": "5-T4Q9i4uTIJ"
      },
      "source": [
        "### 3. Data Sources\n",
        "---\n",
        "*(Describe the origin of the data sources. What is the format of the original data? How to access the data?)*"
      ]
    },
    {
      "cell_type": "markdown",
      "source": [
        "The dataset used for this project is publicly available on Kaggle:\n",
        "https://www.kaggle.com/datasets/shubhambathwal/flight-price-prediction\n",
        "\n",
        "Format: CSV file\n",
        "\n",
        "Size: Approximately 10,000+ records with 11 columns\n",
        "\n",
        "Structure: Each row represents a flight with fields such as Airline, Source, Destination, Total Stops, Journey Date, Dep/Arrival Time, Duration, and Price."
      ],
      "metadata": {
        "id": "2no3jrINpWKz"
      }
    },
    {
      "cell_type": "markdown",
      "metadata": {
        "id": "t6ZR2JIZuTIJ"
      },
      "source": [
        "### 4. The Goal(s) of the Analytics\n",
        "---\n",
        "*(What are the expected results of the project?)*"
      ]
    },
    {
      "cell_type": "markdown",
      "source": [
        "The expected outcomes of this project are:\n",
        "\n",
        "Perform exploratory data analysis (EDA) to understand patterns, correlations, and outliers in the flight data.\n",
        "\n",
        "Apply appropriate data preprocessing techniques, including handling missing values, converting date/time fields, and encoding categorical variables.\n",
        "\n",
        "Conduct feature engineering to enhance model performance (e.g., extracting day/month from journey date, converting duration into numerical format).\n",
        "\n",
        "Train and evaluate multiple regression models, including Linear Regression, Decision Tree Regressor, Random Forest Regressor, and XGBoost.\n",
        "\n",
        "Assess models using relevant evaluation metrics such as RMSE, MAE, and R² score.\n",
        "\n",
        "Create visualizations to interpret model performance and provide insights into fare trends.\n",
        "\n",
        "Deliver a well-documented and reproducible notebook with clear code, comments, and visual presentation of results.\n",
        "\n"
      ],
      "metadata": {
        "id": "f5tywvJfrUEZ"
      }
    },
    {
      "cell_type": "markdown",
      "metadata": {
        "id": "aL4KycH9uTIJ"
      },
      "source": [
        "---\n",
        "(*Use the following requirements for writing your reports. DO NOT DELETE THE CELLS BELLOW*)"
      ]
    },
    {
      "cell_type": "markdown",
      "metadata": {
        "id": "YternmrfuTIK"
      },
      "source": [
        "# Project Requirements\n",
        "\n",
        "This final project examines the level of knowledge the students have learned from the course. The following course outcomes will be checked against the content of the report:\n",
        "\n",
        "Upon successful completion of this course, a student will be able to:\n",
        "* Describe the key Python tools and libraries that related to a typical data analytics project.\n",
        "* Identify data science libraries, frameworks, modules, and toolkits in Python that efficiently implement the most common data science algorithms and techniques.\n",
        "* Apply latest Python techniques in data acquisition, transformation and predictive analytics for data science projects.\n",
        "* Discuss the underlying principles and main characteristics of the most common methods and techniques for data analytics.\n",
        "* Build data analytic and predictive models for real world data sets using existing Python libraries.\n",
        "\n",
        "** Marking will be foucsed on both presentation and content.**\n",
        "\n",
        "## Written Presentation Requirements\n",
        "The report will be judged on the basis of visual appearance, grammatical correctness, and quality of writing, as well as its contents. Please make sure that the text of your report is well-structured, using paragraphs, full sentences, and other features of well-written presentation.\n",
        "\n",
        "## Technical Content:\n",
        "* Is the problem well defined and described thoroughly?\n",
        "* Is the size and complexity of the data set used in this project comparable to that of the example data sets used in the lectures and assignments?\n",
        "* Did the report describe the charactriatics of the data?\n",
        "* Did the report describe the goals of the data analysis?\n",
        "* Did the analysis conduct exploratory analyses on the data?\n",
        "* Did the analysis build models of the data and evaluated the performance of the models?\n",
        "* Overall, what is the rating of this project?"
      ]
    },
    {
      "cell_type": "code",
      "execution_count": null,
      "metadata": {
        "id": "AGjoZAlruTIK"
      },
      "outputs": [],
      "source": []
    }
  ],
  "metadata": {
    "colab": {
      "provenance": [],
      "include_colab_link": true
    },
    "kernelspec": {
      "display_name": "Python 3 (ipykernel)",
      "language": "python",
      "name": "python3"
    },
    "language_info": {
      "codemirror_mode": {
        "name": "ipython",
        "version": 3
      },
      "file_extension": ".py",
      "mimetype": "text/x-python",
      "name": "python",
      "nbconvert_exporter": "python",
      "pygments_lexer": "ipython3",
      "version": "3.11.5"
    }
  },
  "nbformat": 4,
  "nbformat_minor": 0
}